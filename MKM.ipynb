{
 "cells": [
  {
   "cell_type": "code",
   "execution_count": null,
   "metadata": {},
   "outputs": [],
   "source": [
    "import mkm_api_manager\n",
    "mkm_url = 'https://www.cardmarket.com/'"
   ]
  },
  {
   "cell_type": "code",
   "execution_count": null,
   "metadata": {
    "collapsed": true
   },
   "outputs": [
    {
     "name": "stdout",
     "output_type": "stream",
     "text": [
      "4191 54\n",
      "{'(FOIL) Smokestack': {'price': 2.49, 'image': './img/items/1/V14/268651.jpg', 'low': 2.4, 'trend': 2.92}, '(FOIL) Ghostly Prison': {'price': 3.99, 'image': './img/items/1/CN2/291809.jpg', 'low': 3.95, 'trend': 3.73}, 'Street Wraith': {'price': 2.07, 'image': './img/items/1/A25/319505.jpg', 'low': 1.8, 'trend': 2.33}}\n"
     ]
    }
   ],
   "source": [
    "user = 'monstertrava'\n",
    "res = mkm_api_manager.get_deals(user, condition_min=\"GD\", min_price=1, max_price=10, languages=[\"English\", \"Japanese\", \"Korean\", \"Russian\"], threshold=0.15)\n",
    "print(res)"
   ]
  },
  {
   "cell_type": "code",
   "execution_count": null,
   "metadata": {},
   "outputs": [
    {
     "data": {
      "text/html": [
       "<style>         a img { display:none; }         a:hover img { display:block; }         </style>         <a href=\"#\"><b>(FOIL) Smokestack</b> [Price: 2.49 Low: 2.4 Trend: 2.92]<img src=\"https://www.cardmarket.com/img/items/1/V14/268651.jpg\" /></a>"
      ],
      "text/plain": [
       "<IPython.core.display.HTML object>"
      ]
     },
     "metadata": {},
     "output_type": "execute_result"
    },
    {
     "data": {
      "text/html": [
       "<style>         a img { display:none; }         a:hover img { display:block; }         </style>         <a href=\"#\"><b>(FOIL) Ghostly Prison</b> [Price: 3.99 Low: 3.95 Trend: 3.73]<img src=\"https://www.cardmarket.com/img/items/1/CN2/291809.jpg\" /></a>"
      ],
      "text/plain": [
       "<IPython.core.display.HTML object>"
      ]
     },
     "metadata": {},
     "output_type": "execute_result"
    },
    {
     "data": {
      "text/html": [
       "<style>         a img { display:none; }         a:hover img { display:block; }         </style>         <a href=\"#\"><b>Street Wraith</b> [Price: 2.07 Low: 1.8 Trend: 2.33]<img src=\"https://www.cardmarket.com/img/items/1/A25/319505.jpg\" /></a>"
      ],
      "text/plain": [
       "<IPython.core.display.HTML object>"
      ]
     },
     "metadata": {},
     "output_type": "execute_result"
    }
   ],
   "source": [
    "from IPython.display import display, HTML\n",
    "for r in res:\n",
    "    item = res[r]\n",
    "    img = item['image'][2:]\n",
    "    display(HTML(\n",
    "        '<style> \\\n",
    "        a img { display:none; } \\\n",
    "        a:hover img { display:block; } \\\n",
    "        </style> \\\n",
    "        <a href=\"#\"><b>'+r+'</b> [Price: '+str(item['price'])+' Low: ' +str(item['low'])+' Trend: '+str(item['trend'])+']<img src=\"'+mkm_url+img+'\" /></a>'\n",
    "    \n",
    "    )) "
   ]
  },
  {
   "cell_type": "code",
   "execution_count": null,
   "metadata": {},
   "outputs": [],
   "source": []
  },
  {
   "cell_type": "code",
   "execution_count": null,
   "metadata": {},
   "outputs": [],
   "source": []
  },
  {
   "cell_type": "code",
   "execution_count": null,
   "metadata": {},
   "outputs": [],
   "source": []
  },
  {
   "cell_type": "code",
   "execution_count": null,
   "metadata": {},
   "outputs": [],
   "source": []
  },
  {
   "cell_type": "code",
   "execution_count": null,
   "metadata": {},
   "outputs": [],
   "source": []
  },
  {
   "cell_type": "code",
   "execution_count": null,
   "metadata": {},
   "outputs": [],
   "source": []
  },
  {
   "cell_type": "code",
   "execution_count": null,
   "metadata": {},
   "outputs": [],
   "source": []
  },
  {
   "cell_type": "code",
   "execution_count": null,
   "metadata": {},
   "outputs": [],
   "source": []
  },
  {
   "cell_type": "code",
   "execution_count": null,
   "metadata": {},
   "outputs": [],
   "source": []
  },
  {
   "cell_type": "code",
   "execution_count": null,
   "metadata": {},
   "outputs": [],
   "source": []
  }
 ],
 "metadata": {
  "kernelspec": {
   "display_name": "Python 3",
   "language": "python",
   "name": "python3"
  },
  "language_info": {
   "codemirror_mode": {
    "name": "ipython",
    "version": 3
   },
   "file_extension": ".py",
   "mimetype": "text/x-python",
   "name": "python",
   "nbconvert_exporter": "python",
   "pygments_lexer": "ipython3",
   "version": "3.6.7"
  }
 },
 "nbformat": 4,
 "nbformat_minor": 2
}
